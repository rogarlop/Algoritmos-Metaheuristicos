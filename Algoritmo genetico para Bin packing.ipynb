{
 "cells": [
  {
   "cell_type": "markdown",
   "id": "733f7a8d-7749-4787-b603-3708ff574598",
   "metadata": {},
   "source": [
    "## Bin packing\n",
    "#### Encontrar el minimo de contenedores posibles considerando 5 tamaños de cajas (fijos)\n",
    "#### Considerar área de los contenedores, dimensiones de los paquetes, numero de paquetes, maximo 10 contenendores"
   ]
  },
  {
   "cell_type": "code",
   "execution_count": null,
   "id": "46880059-5ef9-467c-875d-add8f6077095",
   "metadata": {},
   "outputs": [],
   "source": [
    "# PARAMETROS FIJOS INICIALES: \n",
    "\n",
    "    # 5 tamaños de cajas (fijos)\n",
    "    # 1000 cajas al día:\n",
    "        # Entradas : Número de cajas de cada tamaño (Colocar # cajas 1,2,3,4 y asignar el resto a la 5)\n",
    "\n",
    "    # Restricciones :\n",
    "        # Comenzar por las cajas más grandes\n",
    "        # El ancho de los paquetes siempre es fijo (1/3 del ancho del contenedor) \n",
    "        # Contar la cantidad de paquetes de cada tipo que restan por colocar\n",
    "        # Registrar qué y cuántos paquetes van en cada contenedor\n",
    "        # Siempre debe haber por lo menos un número mínimo de paquetes de cada tipo (asegurado)\n",
    "\n",
    "    # Área de las cajas:\n",
    "        # Ancho de la caja: 1/3 de del contenedor ( 2.4 / 3 ) = 0.8 mts\n",
    "        # Alto  de la caja:\n",
    "            # Caja 1: 2 mts\n",
    "            # Caja 2: 3 mts\n",
    "            # Caja 3: 5 mts\n",
    "            # Caja 4: 6 mts\n",
    "            # Caja 5: 8 mts\n",
    "\n",
    "    # Área de los contenedores:\n",
    "        # 12 mts x 2.4 mts ( alto x ancho )\n",
    "\n",
    "    # Aptitud: minimo global de contenedores"
   ]
  },
  {
   "cell_type": "code",
   "execution_count": null,
   "id": "90308170-0a13-4c3f-8964-b25590d86ef2",
   "metadata": {},
   "outputs": [],
   "source": []
  }
 ],
 "metadata": {
  "kernelspec": {
   "display_name": "Python 3 (ipykernel)",
   "language": "python",
   "name": "python3"
  },
  "language_info": {
   "codemirror_mode": {
    "name": "ipython",
    "version": 3
   },
   "file_extension": ".py",
   "mimetype": "text/x-python",
   "name": "python",
   "nbconvert_exporter": "python",
   "pygments_lexer": "ipython3",
   "version": "3.11.10"
  },
  "widgets": {
   "application/vnd.jupyter.widget-state+json": {
    "state": {},
    "version_major": 2,
    "version_minor": 0
   }
  }
 },
 "nbformat": 4,
 "nbformat_minor": 5
}
