{
 "cells": [
  {
   "cell_type": "code",
   "execution_count": 1,
   "id": "e8a5bea6-4a11-4dce-ba34-c5cd2500abc9",
   "metadata": {},
   "outputs": [],
   "source": [
    "import random\n",
    "import numpy as np\n",
    "import pandas as pd\n",
    "import matplotlib.pyplot as plt\n",
    "from IPython.display import display, clear_output"
   ]
  },
  {
   "cell_type": "markdown",
   "id": "30616c44-f0b2-4927-9a37-b3a4dbba23c6",
   "metadata": {},
   "source": [
    "## Decodificación y codificación del problema"
   ]
  },
  {
   "cell_type": "code",
   "execution_count": 2,
   "id": "3778af52-b139-491a-9c28-2a2502aab303",
   "metadata": {},
   "outputs": [],
   "source": [
    "#Funcion para codificar los numeros del 0-63 a binario, en un string, y poder representarlos\n",
    "def decimal_a_binario(numero_decimal):\n",
    "    numbin = []\n",
    "    binario_texto = []\n",
    "    gene = 0\n",
    "    if(numero_decimal>=0 and numero_decimal<=63):\n",
    "        while (gene <= 5):\n",
    "            numbin.insert(0, numero_decimal % 2)\n",
    "            numero_decimal //= 2\n",
    "            gene+=1\n",
    "        binario_texto= \"\".join(str(e) for e in numbin)\n",
    "    else:\n",
    "        binario_texto = \"numero incompatible. No puede ser representado con 6 bits\"\n",
    "    return binario_texto"
   ]
  },
  {
   "cell_type": "code",
   "execution_count": 3,
   "id": "72de3172-4d31-4f5a-b57b-c1351fac2a8d",
   "metadata": {},
   "outputs": [],
   "source": [
    "#Funcion para decodificar el numero binario (poblador) a número decimal del 0-63 y mapearlo en el rango de -1 a 1\n",
    "def binario_a_decimal(binario_texto):\n",
    "    valor = 0\n",
    "    i=0\n",
    "    cadena_aux = binario_texto[::-1] #Invierte la cadena\n",
    "    while i<len(binario_texto):\n",
    "        valor += int( cadena_aux[i] ) * 2**i #Convierte a valor binario el decimal\n",
    "        i = i + 1\n",
    "    valor = ( ( valor/63 ) * 2 ) - 1\n",
    "    return valor"
   ]
  },
  {
   "cell_type": "markdown",
   "id": "3ee6f74c-6d05-4d4a-b312-0e8026fc7661",
   "metadata": {},
   "source": [
    "## Evaluación de aptitud"
   ]
  },
  {
   "cell_type": "code",
   "execution_count": 4,
   "id": "3711372d-fee3-43e9-807c-eb336b198d0a",
   "metadata": {},
   "outputs": [],
   "source": [
    "#Función que evalúa la aptitud de cierto número de pobladores, contra la función y = x^2, después de decodificarla.\n",
    "def evaluacion_aptitud(poblacion):\n",
    "    n = len(poblacion)\n",
    "    aptitud = []\n",
    "    valor_grafico = []\n",
    "    matriz_con_aptitud = pd.DataFrame()\n",
    "    for i in range(n):\n",
    "        valor_grafico.append(binario_a_decimal(poblacion[i])) #Se recupera el valor de la variable de 6 bits codificada (valor en eje x [-1, 1])\n",
    "        aptitud.append(valor_grafico[i]**2) #Dicho valor se eleva al cuadrado para obtener la aptitud del individuo\n",
    "    matriz_con_aptitud[\"POBLACION\"] = poblacion #Valor de 6 bits con alelos {0,1} del individuo\n",
    "    matriz_con_aptitud[\"APTITUD\"] = aptitud #Aptitud del individuo\n",
    "    matriz_con_aptitud[\"VALOR CODIFICADO\"] = valor_grafico #Valor decodificado (útil para graficar)\n",
    "    return matriz_con_aptitud"
   ]
  },
  {
   "cell_type": "markdown",
   "id": "19178340-b4be-4624-a0ab-e68c02480c50",
   "metadata": {},
   "source": [
    "## **Métodos de selección**\n",
    "### 1) Ranking\n",
    "### 2) Ruleta\n",
    "### 3) Aleatorio monogámico\n",
    "### 4) Aleatorio poligámico\n",
    "### 5) Torneo"
   ]
  },
  {
   "cell_type": "code",
   "execution_count": 5,
   "id": "0cfbf69c-02c4-4e15-bc70-778a01d033b3",
   "metadata": {},
   "outputs": [],
   "source": [
    "def rank_selection(poblacion):\n",
    "    n = len(poblacion) #n = numero de elementos a obtener (hijos)\n",
    "    num_genes = len(poblacion[0]) #Calcula el numero de genes (por si en algun punto debe escalar a más genes pares)\n",
    "    i = 0\n",
    "    poblacion_hijos = []\n",
    "    while ( i < n ):\n",
    "        #Hijos generados (dos posibles, por cada pareja de padres seleccionados)\n",
    "        #hijo_1, hijo_2 = cruza_un_corte(poblacion[i], poblacion[i+1]) # CRUZA 1 CORTE\n",
    "        hijo_1, hijo_2 = cruza_homogenea(poblacion[i], poblacion[i+1]) # CRUZA HOMOGÉNEA\n",
    "        \n",
    "        poblacion_hijos.append(hijo_1)\n",
    "        poblacion_hijos.append(hijo_2)\n",
    "        i+=2\n",
    "    return poblacion_hijos"
   ]
  },
  {
   "cell_type": "code",
   "execution_count": 6,
   "id": "e243cd78-43fb-4cdd-8413-9e2a84581bc2",
   "metadata": {},
   "outputs": [],
   "source": [
    "def ruleta(poblacion, aptitud):\n",
    "    n = len(poblacion) #n = numero de elementos a obtener (hijos)\n",
    "    num_genes = len(poblacion[0]) #Calcula el numero de genes (por si en algun punto debe escalar a más genes pares)\n",
    "    i = 0\n",
    "    poblacion_hijos = []\n",
    "    #Vector auxiliar para calcular la distribucion de probabilidad del ranking\n",
    "    probabilidad_padre = aptitud / np.sum(aptitud) #Distribucion de probabilidad por ranking\n",
    "    while ( i < (n/2) ):\n",
    "        #Hijos generados (dos posibles, por cada pareja de padres seleccionados)\n",
    "        padre1 = np.random.choice(poblacion, 1, p=probabilidad_padre)\n",
    "        padre2 = np.random.choice(poblacion, 1, p=probabilidad_padre)\n",
    "\n",
    "        #hijo_1, hijo_2 = cruza_un_corte(padre1[0], padre2[0]) #CRUZA UN CORTE\n",
    "        hijo_1, hijo_2 = cruza_homogenea(padre1[0], padre2[0]) # CRUZA HOMOGÉNEA\n",
    "        poblacion_hijos.append(hijo_1)\n",
    "        poblacion_hijos.append(hijo_2)\n",
    "        i+=1\n",
    "    return poblacion_hijos"
   ]
  },
  {
   "cell_type": "code",
   "execution_count": 7,
   "id": "de6b53ef-ef4d-43d1-bbfb-e9f107941744",
   "metadata": {},
   "outputs": [],
   "source": [
    "def aleatorio_monogamico(poblacion):\n",
    "    n = len(poblacion) #n = numero de elementos a obtener (hijos)\n",
    "    num_genes = len(poblacion[0]) #Calcula el numero de genes (por si en algun punto debe escalar a más genes pares)\n",
    "    i = 0\n",
    "    poblacion_disponible = poblacion.to_list().copy()\n",
    "    poblacion_hijos = []\n",
    "    while ( i < (n/2) ):\n",
    "        #Hijos generados (dos posibles, por cada pareja de padres seleccionados, cada pareja es seleccionada aleatoriamente una sola vez)\n",
    "        pareja = random.sample(poblacion_disponible, 2)\n",
    "\n",
    "        #hijo_1, hijo_2 = cruza_un_corte(pareja[0], pareja[1]) #CRUZA UN CORTE\n",
    "        hijo_1, hijo_2 = cruza_homogenea(pareja[0], pareja[1]) # CRUZA HOMOGÉNEA\n",
    "        poblacion_hijos.append(hijo_1)\n",
    "        poblacion_hijos.append(hijo_2)\n",
    "        poblacion_disponible.remove(pareja[0])\n",
    "        poblacion_disponible.remove(pareja[1])\n",
    "        i+=2\n",
    "    return poblacion_hijos"
   ]
  },
  {
   "cell_type": "code",
   "execution_count": 8,
   "id": "5ea65b42-27af-4d41-9bc2-e4603b77ea09",
   "metadata": {},
   "outputs": [],
   "source": [
    "def aleatorio_poligamico(poblacion):\n",
    "    n = len(poblacion) #n = numero de elementos a obtener (hijos)\n",
    "    num_genes = len(poblacion[0]) #Calcula el numero de genes (por si en algun punto debe escalar a más genes pares)\n",
    "    i = 0\n",
    "    poblacion_disponible = poblacion.to_list().copy()\n",
    "    poblacion_hijos = []\n",
    "    while ( i < (n/2) ):\n",
    "        #Hijos generados (dos posibles, por cada pareja de padres seleccionados, cada integrante de la pareja puede seleccionarse más de una vez)\n",
    "        pareja = random.choices(poblacion_disponible, k = 2)\n",
    "\n",
    "        #hijo_1, hijo_2 = cruza_un_corte(pareja[0], pareja[1]) #CRUZA UN CORTE\n",
    "        hijo_1, hijo_2 = cruza_homogenea(pareja[0], pareja[1]) #CRUZA HOMOGÉNEA\n",
    "        poblacion_hijos.append(hijo_1)\n",
    "        poblacion_hijos.append(hijo_2)\n",
    "        i+=2\n",
    "    return poblacion_hijos"
   ]
  },
  {
   "cell_type": "code",
   "execution_count": 9,
   "id": "933e2704-beb6-4227-a0db-991d9e0e0cf6",
   "metadata": {},
   "outputs": [],
   "source": [
    "def tournament(poblacion):\n",
    "    n = len(poblacion) #n = numero de elementos a obtener (hijos)\n",
    "    num_genes = len(poblacion[0]) #Calcula el numero de genes (por si en algun punto debe escalar a más genes pares)\n",
    "    i = 0\n",
    "    poblacion_disponible = poblacion.to_list().copy()\n",
    "    poblacion_hijos = []\n",
    "    while ( i < (n/2) ):\n",
    "        #Hijos generados (forzosamente con población previamente ordenada), se cruzan padres 1-10, 2-9, 3-8, y así sucesivamente\n",
    "        #hijo_1, hijo_2 = cruza_un_corte(poblacion[i], poblacion[n-1-i]) #CRUZA UN CORTE\n",
    "        hijo_1, hijo_2 = cruza_homogenea(poblacion[i], poblacion[n-1-i]) #CRUZA HOMOGÉNEA\n",
    "        poblacion_hijos.append(hijo_1)\n",
    "        poblacion_hijos.append(hijo_2)\n",
    "        #poblacion_hijos.append(poblacion[i][0:int(num_genes/2)] + poblacion[n-1-i][int(num_genes/2):num_genes])\n",
    "        #poblacion_hijos.append(poblacion[n-1-i][0:int(num_genes/2)] + poblacion[i][int(num_genes/2):num_genes])\n",
    "        i+=1\n",
    "    return poblacion_hijos"
   ]
  },
  {
   "cell_type": "markdown",
   "id": "ce66dd4a-4375-4ff0-9029-a61ff3f7ca7a",
   "metadata": {},
   "source": [
    "## Métodos de cruza\n",
    "### 1) 1 corte\n",
    "### 2) Homogéneo"
   ]
  },
  {
   "cell_type": "code",
   "execution_count": 10,
   "id": "f20b4ab6-6873-4f00-b434-8c3c1a9db206",
   "metadata": {},
   "outputs": [],
   "source": [
    "def cruza_un_corte(padre1, padre2):\n",
    "    num_genes = len(padre1)\n",
    "    hijo_1 = padre1[0:int(num_genes/2)] + padre2[int(num_genes/2):num_genes]\n",
    "    hijo_2 = padre2[0:int(num_genes/2)] + padre1[int(num_genes/2):num_genes]\n",
    "    return hijo_1, hijo_2"
   ]
  },
  {
   "cell_type": "code",
   "execution_count": 11,
   "id": "9d881e81-d036-4fb9-8dd3-683c0db399bb",
   "metadata": {},
   "outputs": [],
   "source": [
    "def cruza_homogenea(padre1, padre2):\n",
    "    num_genes = len(padre1)\n",
    "    hijo_1 = []\n",
    "    hijo_2 = []\n",
    "    for i in range(num_genes):\n",
    "        gen_padre = random.randint(0, 1)\n",
    "        if (gen_padre == 0):\n",
    "            hijo_1.append(padre1[i])\n",
    "            hijo_2.append(padre2[i])\n",
    "        else:\n",
    "            hijo_1.append(padre2[i])\n",
    "            hijo_2.append(padre1[i])\n",
    "            \n",
    "    hijo_1 = ''.join(hijo_1)\n",
    "    hijo_2 = ''.join(hijo_2)\n",
    "    \n",
    "    return hijo_1, hijo_2"
   ]
  },
  {
   "cell_type": "markdown",
   "id": "710a78fe-7777-44cb-9965-e874c3b8dd52",
   "metadata": {},
   "source": [
    "## Progreso de la solución en la generación i (gráficamente)"
   ]
  },
  {
   "cell_type": "code",
   "execution_count": 12,
   "id": "ae72f48f-1f34-43ef-b01c-d533e743f67b",
   "metadata": {},
   "outputs": [],
   "source": [
    "def grafica_poblacion(matriz_poblacion, i):\n",
    "    plt.scatter(matriz_poblacion[\"VALOR CODIFICADO\"], matriz_poblacion[\"APTITUD\"], color = \"red\", label = \"pobladores\")\n",
    "    x = np.linspace(-1,1,100)\n",
    "    y = x ** 2\n",
    "    plt.plot(x, y, color = \"blue\")\n",
    "    aptprom =matriz_poblacion[\"APTITUD\"].mean()\n",
    "    plt.axhline(y=aptprom, color='purple', linestyle='--', label='Aptitud promedio: ' + \"{:.3f}\".format(aptprom))\n",
    "    plt.grid()\n",
    "    leyenda = 'Población en la generación ' + str(i)\n",
    "    plt.title(leyenda, weight =\"bold\");\n",
    "    plt.xlabel('Eje x');\n",
    "    plt.ylabel('Eje y');\n",
    "    plt.legend()\n",
    "    clear_output(wait=True)\n",
    "    plt.show()"
   ]
  },
  {
   "cell_type": "markdown",
   "id": "0d834178-25e8-4d8f-9e04-eae3a377677a",
   "metadata": {},
   "source": [
    "## Algoritmo genético"
   ]
  },
  {
   "cell_type": "code",
   "execution_count": 13,
   "id": "2319ca2a-3a68-4645-9a53-6cc966d561b6",
   "metadata": {
    "scrolled": true
   },
   "outputs": [],
   "source": [
    "# Aplicación de la función para evaluar la aptitud de los pobladores\n",
    "def algoritmo_genetico(poblacion_codificada, epocas):\n",
    "    plt.figure()\n",
    "    matriz_con_aptitud = evaluacion_aptitud(poblacion_codificada)\n",
    "    matriz_con_aptitud = matriz_con_aptitud.sort_values(by=\"APTITUD\", ascending = False).reset_index(drop=True) # Ordenamiento de los pobladores\n",
    "    #Grafica de la población en la generación inicial (generación 0).\n",
    "    grafica_poblacion(matriz_con_aptitud, 0)\n",
    "    for i in range(epocas):\n",
    "#METODOS DE SELECCION (LOS MÉTODOS DE CRUZA VAN DEFINIDOS DENTRO DE CADA METODO DE SELECCION. LA INSTRUCCION PARA CAMBIAR DE METODO DE CRUZA SE ENCUENTRA COMENTADA\n",
    "        \n",
    "        #RANKING\n",
    "        #poblacion_hijos = rank_selection(matriz_con_aptitud[\"POBLACION\"])\n",
    "        #RULETA\n",
    "        #poblacion_hijos = ruleta(matriz_con_aptitud[\"POBLACION\"], matriz_con_aptitud[\"APTITUD\"])\n",
    "        #ALEATORIO MONOGÁMICO\n",
    "        #poblacion_hijos = aleatorio_monogamico(matriz_con_aptitud[\"POBLACION\"])\n",
    "        #ALEATORIO POLIGAMICO\n",
    "        #poblacion_hijos = aleatorio_poligamico(matriz_con_aptitud[\"POBLACION\"])\n",
    "        #TORNEO\n",
    "        poblacion_hijos = tournament(matriz_con_aptitud[\"POBLACION\"])\n",
    "        matriz_con_aptitud_hijos = evaluacion_aptitud(poblacion_hijos)\n",
    "        #Juntar hijos con padres, para ordenarlos y seleccionar mejores 10 pobladores\n",
    "        matriz_mixed = pd.concat([matriz_con_aptitud, matriz_con_aptitud_hijos], ignore_index=True)\n",
    "        #matriz_final = matriz_mixed.sort_values(by=\"APTITUD\", ascending = False).drop_duplicates().reset_index(drop=True)\n",
    "        matriz_final = matriz_mixed.sort_values(by=\"APTITUD\", ascending = False).reset_index(drop=True)\n",
    "        #MÉTODO ELITISTA: Seleccionar 10 mejores individuos (Competencia genética)\n",
    "        matriz_con_aptitud = matriz_final[0:10]\n",
    "        #Graficación de matriz en la iteración i\n",
    "        grafica_poblacion(matriz_con_aptitud, i+1)\n",
    "        plt.close()\n",
    "        if (matriz_con_aptitud[\"APTITUD\"].mean() > 0.99): #Criterio mínimo de promedio para terminar el algoritmo si se llega a dicho nivel medio de aptitud\n",
    "            break\n",
    "    return matriz_con_aptitud"
   ]
  },
  {
   "cell_type": "markdown",
   "id": "6d0b8ce9-1378-4b6d-bab6-4ded3537b6e6",
   "metadata": {},
   "source": [
    "## Ejemplificación"
   ]
  },
  {
   "cell_type": "markdown",
   "id": "5d18130f-2303-4697-9644-3f2e1d0e88d6",
   "metadata": {},
   "source": [
    "### Generación de población inicial"
   ]
  },
  {
   "cell_type": "code",
   "execution_count": 14,
   "id": "8a46911d-4ea6-408b-8042-a1f5b0bb802e",
   "metadata": {},
   "outputs": [
    {
     "name": "stdout",
     "output_type": "stream",
     "text": [
      "Población (sujetos iniciales):  [45, 59, 46, 54, 62, 23, 34, 48, 20, 37]\n",
      "\n",
      "Población inicial codificada ['101101', '111011', '101110', '110110', '111110', '010111', '100010', '110000', '010100', '100101']\n"
     ]
    }
   ],
   "source": [
    "#Algoritmo genético para la resolución del problema planteado en clase, ecuación cuadrática con dos soluciones\n",
    "#1) Codificación y generación de la población \n",
    "# Requerimientos: 10 pobladores iniciales, 2 alelos {0,1} y 6 genes p/cromosoma\n",
    "#representaciones = 2 ** 6 #Al contar con 6 genes, podemos contar con 64 soluciones posibles en el espacio de busqueda\n",
    "#La población se generará de manera aleatoria, tomando números del 0 al 63, y codificándolos para su representación correspondiente\n",
    "poblacion = random.sample(range(64), 10)\n",
    "print(\"Población (sujetos iniciales): \", poblacion)\n",
    "poblacion_codificada = []\n",
    "for i in range(10): #ciclamos para obtener a los pobladores iniciales\n",
    "    poblacion_codificada.append(decimal_a_binario(poblacion[i]))\n",
    "print(\"\\nPoblación inicial codificada\", poblacion_codificada)"
   ]
  },
  {
   "cell_type": "markdown",
   "id": "f51f8ded-d454-4a98-a246-5de88c2141d7",
   "metadata": {},
   "source": [
    "### Aplicación del algoritmo genético por # de épocas definidas"
   ]
  },
  {
   "cell_type": "code",
   "execution_count": 15,
   "id": "8554e726-09d6-44e8-8777-00e4d01d3f8a",
   "metadata": {},
   "outputs": [
    {
     "data": {
      "image/png": "[encoded data removed]",
      "text/plain": [
       "<Figure size 640x480 with 1 Axes>"
      ]
     },
     "metadata": {},
     "output_type": "display_data"
    }
   ],
   "source": [
    "epocas = 10 #Epocas para iterar\n",
    "pobladores_finales = algoritmo_genetico(poblacion_codificada, epocas) #Pobladores finales obtenidos y gráfica a través de generaciones"
   ]
  },
  {
   "cell_type": "markdown",
   "id": "737a2942-a1d2-4dd9-9b6f-cc10f92b0d32",
   "metadata": {},
   "source": [
    "### Ejemplificación con 3 poblaciones diferentes"
   ]
  },
  {
   "cell_type": "code",
   "execution_count": 16,
   "id": "fd227ca1-0915-4c07-a582-9147287cb9da",
   "metadata": {},
   "outputs": [
    {
     "data": {
      "text/html": [
       "<div>\n",
       "<style scoped>\n",
       "    .dataframe tbody tr th:only-of-type {\n",
       "        vertical-align: middle;\n",
       "    }\n",
       "\n",
       "    .dataframe tbody tr th {\n",
       "        vertical-align: top;\n",
       "    }\n",
       "\n",
       "    .dataframe thead th {\n",
       "        text-align: right;\n",
       "    }\n",
       "</style>\n",
       "<table border=\"1\" class=\"dataframe\">\n",
       "  <thead>\n",
       "    <tr style=\"text-align: right;\">\n",
       "      <th></th>\n",
       "      <th>Poblacion 1</th>\n",
       "      <th>Poblacion 2</th>\n",
       "      <th>Poblacion 3</th>\n",
       "    </tr>\n",
       "  </thead>\n",
       "  <tbody>\n",
       "    <tr>\n",
       "      <th>0</th>\n",
       "      <td>101101</td>\n",
       "      <td>001000</td>\n",
       "      <td>001100</td>\n",
       "    </tr>\n",
       "    <tr>\n",
       "      <th>1</th>\n",
       "      <td>100101</td>\n",
       "      <td>011011</td>\n",
       "      <td>010001</td>\n",
       "    </tr>\n",
       "    <tr>\n",
       "      <th>2</th>\n",
       "      <td>000001</td>\n",
       "      <td>111101</td>\n",
       "      <td>010110</td>\n",
       "    </tr>\n",
       "    <tr>\n",
       "      <th>3</th>\n",
       "      <td>110101</td>\n",
       "      <td>010011</td>\n",
       "      <td>100111</td>\n",
       "    </tr>\n",
       "    <tr>\n",
       "      <th>4</th>\n",
       "      <td>001110</td>\n",
       "      <td>010101</td>\n",
       "      <td>000000</td>\n",
       "    </tr>\n",
       "    <tr>\n",
       "      <th>5</th>\n",
       "      <td>111001</td>\n",
       "      <td>000110</td>\n",
       "      <td>110001</td>\n",
       "    </tr>\n",
       "    <tr>\n",
       "      <th>6</th>\n",
       "      <td>111101</td>\n",
       "      <td>100101</td>\n",
       "      <td>001001</td>\n",
       "    </tr>\n",
       "    <tr>\n",
       "      <th>7</th>\n",
       "      <td>111000</td>\n",
       "      <td>100000</td>\n",
       "      <td>110000</td>\n",
       "    </tr>\n",
       "    <tr>\n",
       "      <th>8</th>\n",
       "      <td>011000</td>\n",
       "      <td>110100</td>\n",
       "      <td>100001</td>\n",
       "    </tr>\n",
       "    <tr>\n",
       "      <th>9</th>\n",
       "      <td>010111</td>\n",
       "      <td>001001</td>\n",
       "      <td>000101</td>\n",
       "    </tr>\n",
       "  </tbody>\n",
       "</table>\n",
       "</div>"
      ],
      "text/plain": [
       "  Poblacion 1 Poblacion 2 Poblacion 3\n",
       "0      101101      001000      001100\n",
       "1      100101      011011      010001\n",
       "2      000001      111101      010110\n",
       "3      110101      010011      100111\n",
       "4      001110      010101      000000\n",
       "5      111001      000110      110001\n",
       "6      111101      100101      001001\n",
       "7      111000      100000      110000\n",
       "8      011000      110100      100001\n",
       "9      010111      001001      000101"
      ]
     },
     "execution_count": 16,
     "metadata": {},
     "output_type": "execute_result"
    }
   ],
   "source": [
    "#Experimentos con poblaciones iniciales (3 poblaciones)\n",
    "random.seed(34)\n",
    "poblaciones = ['Poblacion 1', 'Poblacion 2', 'Poblacion 3']\n",
    "matriz_poblaciones = pd.DataFrame(np.nan, index=range(10), columns = poblaciones)\n",
    "\n",
    "for columna in matriz_poblaciones.columns:\n",
    "    \n",
    "    poblacion = random.sample(range(64), 10)\n",
    "    poblacion_codificada = []\n",
    "    for i in range(10): #ciclamos para obtener a los pobladores iniciales\n",
    "        poblacion_codificada.append(decimal_a_binario(poblacion[i]))\n",
    "    matriz_poblaciones[columna] = poblacion_codificada\n",
    "matriz_poblaciones"
   ]
  },
  {
   "cell_type": "code",
   "execution_count": 29,
   "id": "c5e26ec8-cc9c-451c-b3d6-093828cb953c",
   "metadata": {},
   "outputs": [
    {
     "data": {
      "image/png": "[encoded data removed]",
      "text/plain": [
       "<Figure size 640x480 with 1 Axes>"
      ]
     },
     "metadata": {},
     "output_type": "display_data"
    }
   ],
   "source": [
    "epocas = 10 #Epocas para iterar\n",
    "pobladores_finales = algoritmo_genetico(matriz_poblaciones[\"Poblacion 1\"].to_numpy(), epocas) #Pobladores finales obtenidos y gráfica a través de generaciones\n",
    "#Puede realizarse una prueba con la población inicial 1, 2 o 3, y con el algoritmo elegido dentro del algoritmo genético y el método de selección y el método de cruza dentro de él."
   ]
  }
 ],
 "metadata": {
  "kernelspec": {
   "display_name": "Python 3 (ipykernel)",
   "language": "python",
   "name": "python3"
  },
  "language_info": {
   "codemirror_mode": {
    "name": "ipython",
    "version": 3
   },
   "file_extension": ".py",
   "mimetype": "text/x-python",
   "name": "python",
   "nbconvert_exporter": "python",
   "pygments_lexer": "ipython3",
   "version": "3.11.10"
  },
  "widgets": {
   "application/vnd.jupyter.widget-state+json": {
    "state": {},
    "version_major": 2,
    "version_minor": 0
   }
  }
 },
 "nbformat": 4,
 "nbformat_minor": 5
}
