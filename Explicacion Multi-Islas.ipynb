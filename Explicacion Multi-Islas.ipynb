{
 "cells": [
  {
   "cell_type": "markdown",
   "metadata": {},
   "source": [
    "## Algoritmos genéticos Multi-Islas\n",
    "___\n",
    "* Múltiples poblaciones\n",
    "\n",
    "* Comparten información\n",
    "        + Aptitud\n",
    "        + Individuos\n",
    "\n",
    "* Topologías\n",
    "    + Combinado\n",
    "    + Anillo\n",
    "        - Cada isla está conectada a sus vecinos inmediatos solamente. Promueve una evolución más diversa y localizada.Las buenas soluciones se propagan gradualmente\n",
    "    + Estrella\n",
    "        - Una isla central actúa como HUB, y se conecta directamente con todas las demás. Promueve una rápida diseminación de soluciones prometedoras pero puede llevar a una convergencia prematura\n",
    "    + Rueda (wheel)\n",
    "        - Islas periféricas conectadas en anillo, con una isla central conectada a todas\n",
    "\n",
    "* Cada isla puede tener diferentes operadores genéticos\n",
    "\n",
    "* Visitando, migrando\n",
    "    - La política de población es un componente crucial\n",
    "    - Esquema de aduanas: definir aptitud mínima para permitir al individuo migrar a otra isla\n",
    "    \n",
    "* Selección de migrantes:\n",
    "    + Islas estáticas (cuántos pobladores voy a pasar de qué isla a qué isla)\n",
    "        -**Definir:**\n",
    "        - Número de migrantes (usualmente en porcentaje)\n",
    "        - Número de visitantes\n",
    "        - Reemplazo de invidivuos (creación de más hijos, integración de pobladores provenientes de otra isla)\n",
    "        - ¿Cuáles migrantes? (Por lo general, no los peores)\n",
    "    + Islas dinámicas  \n",
    "        -**Definir:**\n",
    "        - Política de migración (cada generación) --> más complicado controlarlo (definir niveles mínimos de aptitud para aceptar individuos. La política de migración por lo general es igual para todas las islas)\n",
    "        - ¿Cuándo migrar?: Todo el tiempo o a menos que se estanque la aptitud\n",
    "\n",
    "- Selective pressure\n",
    "    + si tengo muchos pobladores muy parecidos, puedo seleccionar algunos de ellos y *enviarlos* a otra isla para contar con una mayor diversidad de individuos en las islas\n",
    "\n",
    "___"
   ]
  }
 ],
 "metadata": {
  "language_info": {
   "name": "python"
  }
 },
 "nbformat": 4,
 "nbformat_minor": 2
}
